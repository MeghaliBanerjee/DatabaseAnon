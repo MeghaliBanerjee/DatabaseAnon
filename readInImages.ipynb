{
 "cells": [
  {
   "cell_type": "code",
   "execution_count": 1,
   "id": "844a42b7",
   "metadata": {},
   "outputs": [],
   "source": [
    "import numpy as np\n",
    "import matplotlib.pyplot as plt\n",
    "import os, glob\n",
    "import pandas as pd\n",
    "\n",
    "import nibabel as nib\n",
    "from skimage.measure import label\n",
    "\n",
    "import dcmstack\n",
    "import pydicom\n",
    "from pydicom import dcmread\n",
    "from pydicom.fileset import FileSet"
   ]
  },
  {
   "cell_type": "code",
   "execution_count": 2,
   "id": "f56c6821",
   "metadata": {},
   "outputs": [],
   "source": [
    "path = \"C:/Users/megha/Documents/PhD/Project Data/DICOM/3DS000734/de/*\"\n",
    "fp=glob.glob(path)"
   ]
  },
  {
   "cell_type": "code",
   "execution_count": 20,
   "id": "61bee676",
   "metadata": {},
   "outputs": [],
   "source": [
    "def check_study_ID(folder):\n",
    "    study_ID=[]\n",
    "    errors =[]\n",
    "\n",
    "    for filep in folder: #for one file in patient folder\n",
    "        try:\n",
    "            ds = pydicom.dcmread(filep, force=True)\n",
    "            study_ID.append(ds.StudyID)\n",
    "        except AttributeError:\n",
    "            errors.append(filep)\n",
    "            pass\n",
    "        \n",
    "    patient_ID = list(set(study_ID))\n",
    "        \n",
    "    return patient_ID, errors"
   ]
  },
  {
   "cell_type": "code",
   "execution_count": 16,
   "id": "188d1ccf",
   "metadata": {},
   "outputs": [],
   "source": [
    "def find_patient_images_available(folder):\n",
    "    file_info=[]\n",
    "    errors =[]\n",
    "    \n",
    "    for filep in folder: #for one file in patient folder\n",
    "        try:\n",
    "            ds = pydicom.dcmread(filep, force=True) #read file\n",
    "            file_info.append(ds.ImageType[-1])\n",
    "\n",
    "        except AttributeError:\n",
    "            errors.append(filep)\n",
    "            pass\n",
    "        \n",
    "    file_info_set = list(set(file_info))\n",
    "        \n",
    "    return file_info_set, errors"
   ]
  },
  {
   "cell_type": "code",
   "execution_count": 24,
   "id": "bb8fb36a",
   "metadata": {},
   "outputs": [],
   "source": [
    "ID_test, errors = check_study_ID(fp) # check there is only one study ID\n",
    "\n",
    "if len(ID_test) == 1:\n",
    "    patient_files, errors  = find_patient_images_available(fp)\n",
    "    \n",
    "else:\n",
    "    print(\"Error\")"
   ]
  },
  {
   "cell_type": "code",
   "execution_count": 25,
   "id": "8f40004a",
   "metadata": {},
   "outputs": [
    {
     "data": {
      "text/plain": [
       "['OTHER', 'ADC']"
      ]
     },
     "execution_count": 25,
     "metadata": {},
     "output_type": "execute_result"
    }
   ],
   "source": [
    "patient_files"
   ]
  },
  {
   "cell_type": "code",
   "execution_count": null,
   "id": "5eff4d0a",
   "metadata": {},
   "outputs": [],
   "source": [
    "file_info=[]\n",
    "\n",
    "for filep in fp: #for one file in patient folder\n",
    "    try:\n",
    "        ds = pydicom.dcmread(filep, force=True) #read file\n",
    "        file_info.append({\n",
    "            \"ID\": ds.StudyID, #determine patient ID, series # and instance#\n",
    "            \"SeriesNumber\": ds.SeriesNumber,\n",
    "            \"InstanceNumber\":ds.InstanceNumber\n",
    "        })\n",
    "    except AttributeError:\n",
    "        print (filep)\n",
    "        pass"
   ]
  },
  {
   "cell_type": "code",
   "execution_count": null,
   "id": "9c874139",
   "metadata": {},
   "outputs": [],
   "source": []
  },
  {
   "cell_type": "code",
   "execution_count": null,
   "id": "66ea82b6",
   "metadata": {},
   "outputs": [],
   "source": [
    "ds = pydicom.dcmread(fp[10])\n",
    "print(ds.ImageType)"
   ]
  },
  {
   "cell_type": "code",
   "execution_count": null,
   "id": "ded56ca8",
   "metadata": {},
   "outputs": [],
   "source": [
    "seriesNumber = [a[\"SeriesNumber\"] for a in file_info] #for image in file_type:\n",
    "unique_series = set(seriesNumber) #list of unique series\n",
    "\n",
    "patient ={}\n",
    "for series in unique_series:\n",
    "    instances = [a[\"InstanceNumber\"] for a in file_info if a[\"SeriesNumber\"]==series]\n",
    "    patient[int(series)] = np.sort(np.array(instances).astype(int))    "
   ]
  },
  {
   "cell_type": "code",
   "execution_count": null,
   "id": "9c66b34c",
   "metadata": {},
   "outputs": [],
   "source": [
    "patient"
   ]
  },
  {
   "cell_type": "code",
   "execution_count": null,
   "id": "94ae2d30",
   "metadata": {},
   "outputs": [],
   "source": []
  },
  {
   "cell_type": "code",
   "execution_count": null,
   "id": "4062841a",
   "metadata": {},
   "outputs": [],
   "source": []
  },
  {
   "cell_type": "code",
   "execution_count": null,
   "id": "439dedb6",
   "metadata": {},
   "outputs": [],
   "source": [
    "\n",
    "a = pydicom.pixel_data_handlers.numpy_handler.get_pixeldata(dataset)\n",
    "a= a.reshape(256,256)\n",
    "plt.imshow(a, cmap=plt.cm.gray)"
   ]
  },
  {
   "cell_type": "code",
   "execution_count": null,
   "id": "86394b19",
   "metadata": {},
   "outputs": [],
   "source": []
  },
  {
   "cell_type": "code",
   "execution_count": null,
   "id": "7fcae66c",
   "metadata": {},
   "outputs": [],
   "source": [
    "all_imgs =[]\n",
    "for f in fp:\n",
    "    all_imgs.append(pydicom.dcmread(f, force=True))"
   ]
  },
  {
   "cell_type": "code",
   "execution_count": null,
   "id": "16d8b091",
   "metadata": {},
   "outputs": [],
   "source": [
    "all_imgs."
   ]
  },
  {
   "cell_type": "code",
   "execution_count": null,
   "id": "34028e7c",
   "metadata": {},
   "outputs": [],
   "source": [
    "[i.Slice_Thickness for i in all_imgs]"
   ]
  },
  {
   "cell_type": "code",
   "execution_count": null,
   "id": "42d4af67",
   "metadata": {},
   "outputs": [],
   "source": [
    "import warnings\n",
    "\n",
    "def fxn():\n",
    "    warnings.warn(\"msg\", UserWarning)\n",
    "\n",
    "with warnings.catch_warnings():\n",
    "    warnings.simplefilter(\"ignore\")\n",
    "    fxn()"
   ]
  },
  {
   "cell_type": "code",
   "execution_count": null,
   "id": "ae3232ad",
   "metadata": {},
   "outputs": [],
   "source": [
    "for i in fp:\n",
    "    loaded = nib.load(i)"
   ]
  },
  {
   "cell_type": "code",
   "execution_count": null,
   "id": "6314acaa",
   "metadata": {},
   "outputs": [],
   "source": [
    "img_nifti1 = nib.Nifti1Image.from_filename(fp[0])"
   ]
  },
  {
   "cell_type": "code",
   "execution_count": null,
   "id": "967df689",
   "metadata": {
    "scrolled": true
   },
   "outputs": [],
   "source": [
    "\n",
    "    data = {} #dict to hold raw images\n",
    "    for i in fp:\n",
    "        for mod in [\"adc\", \"dwi\", \"flair\"]:\n",
    "            if mod in i: \n",
    "                loaded = nib.load(i)\n",
    "                data[mod] = loaded.get_fdata()        \n",
    "else:\n",
    "images=[]\n",
    "for file in fp:\n",
    "    print(file)\n",
    "\n",
    "src_paths = glob('dicom_data/*.dcm')\n",
    "stacks = dcmstack.parse_and_stack(fp)\n"
   ]
  },
  {
   "cell_type": "code",
   "execution_count": null,
   "id": "8c514639",
   "metadata": {},
   "outputs": [],
   "source": []
  }
 ],
 "metadata": {
  "kernelspec": {
   "display_name": "Python 3 (ipykernel)",
   "language": "python",
   "name": "python3"
  },
  "language_info": {
   "codemirror_mode": {
    "name": "ipython",
    "version": 3
   },
   "file_extension": ".py",
   "mimetype": "text/x-python",
   "name": "python",
   "nbconvert_exporter": "python",
   "pygments_lexer": "ipython3",
   "version": "3.8.5"
  }
 },
 "nbformat": 4,
 "nbformat_minor": 5
}
